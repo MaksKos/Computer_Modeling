{
 "cells": [
  {
   "cell_type": "markdown",
   "metadata": {},
   "source": [
    "## Варианты\n",
    "\n",
    "Группа делится на 4 варианта.\n",
    "\n",
    "Исходные данные:\n",
    "* $m = 200$;\n",
    "* $n = 200$;\n",
    "* $T = 0.8 \\cdot m \\cdot n$;\n",
    "* $F = 1$;\n",
    "* $p_f = 2 \\cdot 10^{-5}$;\n",
    "* $p_g = 0.02$;\n",
    "* \"затравка\" генератора чисел `seed = 1013`;\n",
    "* число итераций по времени `time_iters = 500`.\n",
    "\n",
    "Изменения в исходных данных в зависимости от варианта:\n",
    "* Вариант 1: $p_f = (2, 3, 4) \\cdot 10^{-5}$ (три различных значения параметра).\n",
    "* Вариант 2: $p_g = (8, 16, 32) \\cdot 10^{-3}$.\n",
    "* Вариант 3: $T = (1/3, 2/3, 1) \\cdot m \\cdot n$.\n",
    "* Вариант 4: $F = (1, 3, 9)$."
   ]
  },
  {
   "cell_type": "markdown",
   "metadata": {},
   "source": [
    "## Ход работы\n",
    "---\n",
    "\n",
    "### Подключение необходимых библиотек"
   ]
  },
  {
   "cell_type": "code",
   "execution_count": 1,
   "metadata": {},
   "outputs": [],
   "source": [
    "%matplotlib inline\n",
    "from matplotlib.colors import ListedColormap\n",
    "import matplotlib.pyplot as plt\n",
    "import numpy as np\n",
    "from foresrfire import ForestFire"
   ]
  },
  {
   "cell_type": "code",
   "execution_count": 2,
   "metadata": {},
   "outputs": [],
   "source": [
    "colors = [\"#49423D\", \"green\", \"orange\"]\n",
    "cmap = ListedColormap(colors)"
   ]
  },
  {
   "cell_type": "markdown",
   "metadata": {},
   "source": [
    "### Моделирование"
   ]
  },
  {
   "cell_type": "code",
   "execution_count": 3,
   "metadata": {},
   "outputs": [],
   "source": [
    "m, n = 200, 200  # Размеры клеточного поля (длина и ширина соответственно)\n",
    "T = int(0.8 * m * n)  # Доля клеток с деревьями от общего их количества\n",
    "F = 1            # Число изначально горящих деревьев от общего количества клеток с деревьями\n",
    "p_g = 0.02      # Вероятность вырастания нового дерева\n",
    "p_f = 2e-5       # Вероятность случайного воспламенения дерева (молния)\n",
    "time = 500      # Модельное время (число обновлений автомата)"
   ]
  },
  {
   "cell_type": "markdown",
   "metadata": {},
   "source": [
    "Собственно, моделируем:"
   ]
  },
  {
   "cell_type": "code",
   "execution_count": 4,
   "metadata": {},
   "outputs": [],
   "source": [
    "model_plus = ForestFire((m,n), T, F)\n",
    "model_plus.set_neighborhood_rule(ForestFire.neighborhood_plus)"
   ]
  },
  {
   "cell_type": "code",
   "execution_count": null,
   "metadata": {},
   "outputs": [],
   "source": [
    "model_round = ForestFire((m,n), T, F)\n",
    "model_round.set_neighborhood_rule(ForestFire.neighborhood_round)"
   ]
  },
  {
   "cell_type": "code",
   "execution_count": 5,
   "metadata": {},
   "outputs": [
    {
     "name": "stdout",
     "output_type": "stream",
     "text": [
      "CPU times: total: 1.36 s\n",
      "Wall time: 1.42 s\n"
     ]
    }
   ],
   "source": [
    "%%time\n",
    "model_plus.simulate(p_g, p_f, time)"
   ]
  },
  {
   "cell_type": "code",
   "execution_count": null,
   "metadata": {},
   "outputs": [],
   "source": [
    "%%time\n",
    "model_round.simulate(p_g, p_f, time)"
   ]
  },
  {
   "cell_type": "markdown",
   "metadata": {
    "jp-MarkdownHeadingCollapsed": true,
    "tags": []
   },
   "source": [
    "### Обработка и визуализация результатов"
   ]
  },
  {
   "cell_type": "code",
   "execution_count": null,
   "metadata": {
    "jupyter": {
     "source_hidden": true
    },
    "tags": []
   },
   "outputs": [],
   "source": [
    "model = model_round\n",
    "frames = model.frames\n",
    "#type_neigh = \"Neumann_neighborhood\"\n",
    "type_neigh = \"Moore_neighborhood\""
   ]
  },
  {
   "cell_type": "code",
   "execution_count": null,
   "metadata": {
    "jupyter": {
     "source_hidden": true
    },
    "tags": []
   },
   "outputs": [],
   "source": [
    "file_name = f'{type_neigh}_{p_f}.jpg'\n",
    "file_name"
   ]
  },
  {
   "cell_type": "code",
   "execution_count": null,
   "metadata": {
    "tags": []
   },
   "outputs": [],
   "source": [
    "%matplotlib inline \n",
    "%config InlineBackend.figure_format = 'svg' \n",
    "rc = {\"font.family\" : \"serif\", \n",
    "      \"mathtext.fontset\" : \"stix\"}\n",
    "plt.rcParams.update(rc)\n",
    "plt.rcParams[\"font.serif\"] = [\"Times New Roman\"] + plt.rcParams[\"font.serif\"]\n",
    "fs = 14\n",
    "fig, ax = plt.subplots(figsize=(8, 8), nrows=2, ncols=2, tight_layout=True, dpi=300);\n",
    "\n",
    "for i in range(2):\n",
    "    for j in range(2):\n",
    "        ax[i, j].pcolor(frames[(2*i+j)*50], cmap=cmap)\n",
    "        ax[i, j].set_title(f'Step {(2*i+j)*50}', fontsize=fs+2, pad=10)\n",
    "        ax[i, j].set_xlabel(r'$n$ cells',  fontsize = fs)\n",
    "        ax[i, j].set_ylabel(r'$m$ cells',  fontsize = fs)\n",
    "        \n",
    "plt.show()"
   ]
  },
  {
   "cell_type": "code",
   "execution_count": null,
   "metadata": {},
   "outputs": [],
   "source": [
    "fig.savefig(f\"images/fire_{file_name}\", dpi=300, format='jpg')"
   ]
  },
  {
   "cell_type": "code",
   "execution_count": null,
   "metadata": {
    "jupyter": {
     "source_hidden": true
    },
    "tags": []
   },
   "outputs": [],
   "source": [
    "%matplotlib inline \n",
    "%config InlineBackend.figure_format = 'svg' \n",
    "rc = {\"font.family\" : \"serif\", \n",
    "      \"mathtext.fontset\" : \"stix\"}\n",
    "plt.rcParams.update(rc)\n",
    "plt.rcParams[\"font.serif\"] = [\"Times New Roman\"] + plt.rcParams[\"font.serif\"]\n",
    "fs = 14\n",
    "\n",
    "fig = plt.figure(figsize=(10,6), dpi=300)\n",
    "\n",
    "plt.plot(np.arange(time), model.N_fire, color='orange', label=\"$N_{f}$\")\n",
    "plt.plot(np.arange(time), model.N_trees, color='green', label=\"$N_{t}$\")\n",
    "plt.plot(np.arange(time), model.N_empty, color='black', label=\"$N_{empty}$\")\n",
    "plt.legend(loc='upper right', fontsize=fs)\n",
    "plt.xlabel(r'time',  fontsize=fs)\n",
    "plt.ylabel(r'$N$',  fontsize=fs)\n",
    "plt.title(type_neigh, fontsize=fs)\n",
    "plt.grid(linewidth=0.5)\n",
    "plt.show()"
   ]
  },
  {
   "cell_type": "code",
   "execution_count": null,
   "metadata": {},
   "outputs": [],
   "source": [
    "fig.savefig(f\"images/static_{file_name}\", dpi=300, format='jpg')"
   ]
  },
  {
   "cell_type": "code",
   "execution_count": null,
   "metadata": {
    "jupyter": {
     "source_hidden": true
    },
    "tags": []
   },
   "outputs": [],
   "source": [
    "%matplotlib inline \n",
    "%config InlineBackend.figure_format = 'svg' \n",
    "rc = {\"font.family\" : \"serif\", \n",
    "      \"mathtext.fontset\" : \"stix\"}\n",
    "plt.rcParams.update(rc)\n",
    "plt.rcParams[\"font.serif\"] = [\"Times New Roman\"] + plt.rcParams[\"font.serif\"]\n",
    "fs = 14\n",
    "\n",
    "fig = plt.figure(figsize=(10,6), dpi=300)\n",
    "\n",
    "plt.plot(np.arange(time), model_plus.N_fire, color='#d76e00', label=\"Neumann\")\n",
    "plt.plot(np.arange(time), model_round.N_fire, color='#ffa000', label=\"Moore\")\n",
    "\n",
    "plt.legend(loc='upper right', fontsize=fs)\n",
    "plt.xlabel(r'time',  fontsize=fs)\n",
    "plt.ylabel(r'$N_{f}$',  fontsize=fs)\n",
    "plt.grid(linewidth=0.5)\n",
    "plt.show()"
   ]
  },
  {
   "cell_type": "code",
   "execution_count": null,
   "metadata": {},
   "outputs": [],
   "source": [
    "fig.savefig(f\"images/fire_{p_f}.jpg\", dpi=300, format='jpg')"
   ]
  },
  {
   "cell_type": "markdown",
   "metadata": {},
   "source": [
    "## Gif"
   ]
  },
  {
   "cell_type": "code",
   "execution_count": 8,
   "metadata": {},
   "outputs": [],
   "source": [
    "import matplotlib.animation as animation\n",
    "from matplotlib import ticker"
   ]
  },
  {
   "cell_type": "code",
   "execution_count": 9,
   "metadata": {},
   "outputs": [],
   "source": [
    "frames = model_plus.frames"
   ]
  },
  {
   "cell_type": "code",
   "execution_count": 10,
   "metadata": {},
   "outputs": [
    {
     "name": "stderr",
     "output_type": "stream",
     "text": [
      "MovieWriter ffmpeg unavailable; using Pillow instead.\n"
     ]
    },
    {
     "data": {
      "image/png": "[encoded data removed]",
      "text/plain": [
       "<Figure size 720x720 with 1 Axes>"
      ]
     },
     "metadata": {
      "needs_background": "light"
     },
     "output_type": "display_data"
    }
   ],
   "source": [
    "fig, ax = plt.subplots(figsize=(10,10))\n",
    "\n",
    "ax.tick_params(left=False, labelleft=False, bottom=False, labelbottom=True)\n",
    "\n",
    "fs = 14\n",
    "\n",
    "def animate(i):\n",
    "    ax.clear()\n",
    "    frame = ax.pcolor(frames[i], cmap=cmap)\n",
    "    ax.set_title(f\"Step: {i}. Neumann_neighborhood\", fontsize=fs)\n",
    "    ax.set_xlabel(r'$n$ cells',  fontsize = fs)\n",
    "    ax.set_ylabel(r'$m$ cells',  fontsize = fs)\n",
    "    plt.gca().set_aspect('equal', adjustable='box')\n",
    "    return frame\n",
    "\n",
    "#  Создаем объект анимации:\n",
    "sin_animation = animation.FuncAnimation(fig, \n",
    "                                      animate, \n",
    "                                      frames=np.arange(0, 300),\n",
    "                                      interval = 500,\n",
    "                                      repeat = False)\n",
    "\n",
    "#  Сохраняем анимацию в виде gif файла:\n",
    "sin_animation.save('images/fire_forest.gif',\n",
    "                writer='ffmpeg',  \n",
    "                  dpi=300)"
   ]
  },
  {
   "cell_type": "code",
   "execution_count": null,
   "metadata": {},
   "outputs": [],
   "source": []
  }
 ],
 "metadata": {
  "hide_input": false,
  "kernelspec": {
   "display_name": "Python 3 (ipykernel)",
   "language": "python",
   "name": "python3"
  },
  "language_info": {
   "codemirror_mode": {
    "name": "ipython",
    "version": 3
   },
   "file_extension": ".py",
   "mimetype": "text/x-python",
   "name": "python",
   "nbconvert_exporter": "python",
   "pygments_lexer": "ipython3",
   "version": "3.9.12"
  },
  "varInspector": {
   "cols": {
    "lenName": 16,
    "lenType": 16,
    "lenVar": 40
   },
   "kernels_config": {
    "python": {
     "delete_cmd_postfix": "",
     "delete_cmd_prefix": "del ",
     "library": "var_list.py",
     "varRefreshCmd": "print(var_dic_list())"
    },
    "r": {
     "delete_cmd_postfix": ") ",
     "delete_cmd_prefix": "rm(",
     "library": "var_list.r",
     "varRefreshCmd": "cat(var_dic_list()) "
    }
   },
   "types_to_exclude": [
    "module",
    "function",
    "builtin_function_or_method",
    "instance",
    "_Feature"
   ],
   "window_display": false
  },
  "vscode": {
   "interpreter": {
    "hash": "afb734500600fd355917ca529030176ea0ca205570884b88f2f6f7d791fd3fbe"
   }
  }
 },
 "nbformat": 4,
 "nbformat_minor": 4
}
